{
 "cells": [
  {
   "cell_type": "markdown",
   "metadata": {},
   "source": [
    "<center>\n",
    "        <h1>C++ en Jupyter Notebook</h1>\n",
    "<center>"
   ]
  },
  {
   "cell_type": "markdown",
   "metadata": {},
   "source": [
    "En este notebook quiero explicar paso a paso como instalar las herramientas necesarias para poder utilizar un kernel de C++ para Jupyter Notebook"
   ]
  },
  {
   "cell_type": "markdown",
   "metadata": {},
   "source": [
    "<center>\n",
    "    <a title=\"Xues-Cling\" href=\"https://github.com/jupyter-xeus/xeus-cling\">\n",
    "        <img src=\"https://raw.githubusercontent.com/jupyter-xeus/xeus-cling/master/docs/source/xeus-cling.svg?sanitize=true\"/ width=\"250\" height=\"250\">\n",
    "    </a>\n",
    "</center>"
   ]
  },
  {
   "cell_type": "markdown",
   "metadata": {},
   "source": [
    "<code>xeus-cling</code> es un Kernel Jupyter para C++ basado en el intérprete <a href=\"https://github.com/root-project/cling\">cling</a> y la implementacion nativa del protocolo de Jupyter <a href=\"https://github.com/jupyter-xeus/xeus\">xeus</a>"
   ]
  },
  {
   "cell_type": "markdown",
   "metadata": {},
   "source": [
    "<h1>Instalación</h1>"
   ]
  },
  {
   "cell_type": "markdown",
   "metadata": {},
   "source": [
    "<p>La instalación se realiza utilizando conda. En particular, se recomienda el uso de <a href=\"https://conda.io/miniconda.html\">miniconda</a> para evitar errores.</p>\n",
    "<p>También es recomendable crear un ambiente virtual con conda para que la instalación se realice de manera correcta.</p>\n",
    "<p>A continuación dejaré capturas para guiarnos por estos pasos:</p>\n"
   ]
  },
  {
   "cell_type": "markdown",
   "metadata": {},
   "source": [
    "<center>\n",
    "    <p>1. Creamos un ambiente virtual con el siguiente comando:<code>conda create -n xeus-cling-env</code></p>\n",
    "    <figure>\n",
    "      <img src=\"img/1.jpeg\" width=\"700\" height=\"700\">\n",
    "    </figure>\n",
    "</center>"
   ]
  },
  {
   "cell_type": "markdown",
   "metadata": {},
   "source": [
    "<center>\n",
    "    <p>2. Activamos nuestro ambiente virtual con el siguiente comando:<code>conda activate xeus-cling-env</code></p>\n",
    "    <figure>\n",
    "      <img src=\"img/2.jpeg\" width=\"700\" height=\"700\">\n",
    "    </figure>\n",
    "</center>"
   ]
  },
  {
   "cell_type": "markdown",
   "metadata": {},
   "source": [
    "<center>\n",
    "    <p>3. Procedemos a instalar el kernel con el siguiente comando:<code>conda install -c conda-forge xeus-cling</code></p>\n",
    "    <figure>\n",
    "      <img src=\"img/3.jpeg\" width=\"700\" height=\"700\">\n",
    "    </figure>\n",
    "</center>"
   ]
  },
  {
   "cell_type": "markdown",
   "metadata": {},
   "source": [
    "<center>\n",
    "    <p>4. Confirmamos la instalación de los módulos escribiendo simplemente:<code>y</code></p>\n",
    "    <figure>\n",
    "      <img src=\"img/4.jpeg\" width=\"700\" height=\"700\">\n",
    "    </figure>\n",
    "</center>"
   ]
  },
  {
   "cell_type": "markdown",
   "metadata": {},
   "source": [
    "<center>\n",
    "    <p>5. Como trabajamos en un ambiente virtual debemos instalar Jupyter Lab en este ambiente</p>    \n",
    "    <p>Utilizamos entonces el siguiente comando:<code>conda install -c conda-forge jupyterlab</code></p>\n",
    "    <figure>\n",
    "      <img src=\"img/5.jpeg\" width=\"700\" height=\"700\">\n",
    "    </figure>\n",
    "</center>"
   ]
  },
  {
   "cell_type": "markdown",
   "metadata": {},
   "source": [
    "<center>\n",
    "    <p>6. Confirmamos la instalación de los módulos escribiendo simplemente:<code>y</code></p>\n",
    "    <figure>\n",
    "      <img src=\"img/6.jpeg\" width=\"700\" height=\"700\">\n",
    "    </figure>\n",
    "</center>"
   ]
  },
  {
   "cell_type": "markdown",
   "metadata": {},
   "source": [
    "<center>\n",
    "    <p>7. Para concluir simplemente ejecutamos Jupyter Lab utilizando el comando:<code>jupyter lab</code></p>\n",
    "    <figure>\n",
    "      <img src=\"img/7.jpeg\" width=\"700\" height=\"700\">\n",
    "    </figure>\n",
    "</center>"
   ]
  },
  {
   "cell_type": "markdown",
   "metadata": {},
   "source": [
    "<center>\n",
    "    <h3>Si todo salió bien al terminar nuestro resultado será el siguiente:</h3>\n",
    "    <figure>\n",
    "      <img src=\"img/8.jpeg\" width=\"1000\" height=\"1000\">\n",
    "    </figure>\n",
    "</center>"
   ]
  },
  {
   "cell_type": "markdown",
   "metadata": {},
   "source": [
    "# Hagamos algunas pruebas!"
   ]
  },
  {
   "cell_type": "code",
   "execution_count": 1,
   "metadata": {},
   "outputs": [],
   "source": [
    "#include <bits/stdc++.h>  // En una sola línea podemos importar todas las librerias de la STL de C++\n",
    "using namespace std;      // No es una buena práctica, pero en Programación Competitiva nos sirve"
   ]
  },
  {
   "cell_type": "code",
   "execution_count": 2,
   "metadata": {},
   "outputs": [
    {
     "name": "stdout",
     "output_type": "stream",
     "text": [
      "Hola Python Norte Argentina\n"
     ]
    }
   ],
   "source": [
    "cout << \"Hola Python Norte Argentina\" << endl;"
   ]
  },
  {
   "cell_type": "markdown",
   "metadata": {},
   "source": [
    "Creamos un verctor y agregamos algunos valores"
   ]
  },
  {
   "cell_type": "code",
   "execution_count": 3,
   "metadata": {},
   "outputs": [
    {
     "data": {
      "text/plain": [
       "{ 0, 1, 2, 3, 4, 5, 6, 7, 8, 9, 10, 11, 12, 13, 14, 15, 16, 17, 18, 19, 20, 21, 22, 23, 24, 25, 26, 27, 28, 29, 30, 31, 32, 33, 34, 35, 36, 37, 38, 39, 40, 41, 42, 43, 44, 45, 46, 47, 48, 49, 50, 51, 52, 53, 54, 55, 56, 57, 58, 59, 60, 61, 62, 63, 64, 65, 66, 67, 68, 69, 70, 71, 72, 73, 74, 75, 76, 77, 78, 79, 80, 81, 82, 83, 84, 85, 86, 87, 88, 89, 90, 91, 92, 93, 94, 95, 96, 97, 98, 99 }"
      ]
     },
     "execution_count": 3,
     "metadata": {},
     "output_type": "execute_result"
    }
   ],
   "source": [
    "vector<int> vec;\n",
    "\n",
    "for (int i = 0; i < 100; i++){\n",
    "    vec.push_back(i);\n",
    "}\n",
    "\n",
    "vec"
   ]
  },
  {
   "cell_type": "markdown",
   "metadata": {},
   "source": [
    "En C++ no podemos redefinir una variable o nos daría un error, es por esto que tenemos que trabajar con cuidado y utilizar mejor cada celda"
   ]
  },
  {
   "cell_type": "code",
   "execution_count": 4,
   "metadata": {},
   "outputs": [
    {
     "name": "stderr",
     "output_type": "stream",
     "text": [
      "\u001b[1minput_line_14:2:14: \u001b[0m\u001b[0;1;31merror: \u001b[0m\u001b[1mredefinition of 'vec'\u001b[0m\n",
      " vector<int> vec;\n",
      "\u001b[0;1;32m             ^\n",
      "\u001b[0m\u001b[1minput_line_10:2:14: \u001b[0m\u001b[0;1;30mnote: \u001b[0mprevious definition is here\u001b[0m\n",
      " vector<int> vec;\n",
      "\u001b[0;1;32m             ^\n",
      "\u001b[0m"
     ]
    },
    {
     "ename": "Interpreter Error",
     "evalue": "",
     "output_type": "error",
     "traceback": [
      "Interpreter Error: "
     ]
    }
   ],
   "source": [
    "vector<int> vec;"
   ]
  },
  {
   "cell_type": "markdown",
   "metadata": {},
   "source": [
    "Podemos hacer uso de las novedades de C++11 y C++14 y C++17 dependiendo del Kernel que hayamos elegido"
   ]
  },
  {
   "cell_type": "code",
   "execution_count": 5,
   "metadata": {},
   "outputs": [
    {
     "name": "stdout",
     "output_type": "stream",
     "text": [
      "0 1 2 3 4 5 6 7 8 9 10 11 12 13 14 15 16 17 18 19 20 21 22 23 24 25 26 27 28 29 30 31 32 33 34 35 36 37 38 39 40 41 42 43 44 45 46 47 48 49 50 51 52 53 54 55 56 57 58 59 60 61 62 63 64 65 66 67 68 69 70 71 72 73 74 75 76 77 78 79 80 81 82 83 84 85 86 87 88 89 90 91 92 93 94 95 96 97 98 99 \n"
     ]
    }
   ],
   "source": [
    "for (auto a : vec){\n",
    "    cout << a << \" \";        \n",
    "}\n",
    "cout << endl;"
   ]
  },
  {
   "cell_type": "markdown",
   "metadata": {},
   "source": [
    "## Esto es algo muy interesante que pude ver!"
   ]
  },
  {
   "cell_type": "markdown",
   "metadata": {},
   "source": [
    "Podemos acceder facilmente a la documentación de C++ a traves del operador \" ? \" "
   ]
  },
  {
   "cell_type": "code",
   "execution_count": 6,
   "metadata": {},
   "outputs": [
    {
     "data": {
      "text/html": [
       "<style>\n",
       "            #pager-container {\n",
       "                padding: 0;\n",
       "                margin: 0;\n",
       "                width: 100%;\n",
       "                height: 100%;\n",
       "            }\n",
       "            .xcpp-iframe-pager {\n",
       "                padding: 0;\n",
       "                margin: 0;\n",
       "                width: 100%;\n",
       "                height: 100%;\n",
       "                border: none;\n",
       "            }\n",
       "            </style>\n",
       "            <iframe class=\"xcpp-iframe-pager\" src=\"https://en.cppreference.com/w/cpp/container/vector/vector?action=purge\"></iframe>"
      ],
      "text/plain": [
       "https://en.cppreference.com/w/cpp/container/vector/vector"
      ]
     },
     "metadata": {},
     "output_type": "display_data"
    }
   ],
   "source": [
    "?vector"
   ]
  },
  {
   "cell_type": "code",
   "execution_count": 7,
   "metadata": {},
   "outputs": [
    {
     "data": {
      "text/html": [
       "<style>\n",
       "            #pager-container {\n",
       "                padding: 0;\n",
       "                margin: 0;\n",
       "                width: 100%;\n",
       "                height: 100%;\n",
       "            }\n",
       "            .xcpp-iframe-pager {\n",
       "                padding: 0;\n",
       "                margin: 0;\n",
       "                width: 100%;\n",
       "                height: 100%;\n",
       "                border: none;\n",
       "            }\n",
       "            </style>\n",
       "            <iframe class=\"xcpp-iframe-pager\" src=\"https://en.cppreference.com/w/cpp/algorithm/sort?action=purge\"></iframe>"
      ],
      "text/plain": [
       "https://en.cppreference.com/w/cpp/algorithm/sort"
      ]
     },
     "metadata": {},
     "output_type": "display_data"
    }
   ],
   "source": [
    "?sort"
   ]
  },
  {
   "cell_type": "markdown",
   "metadata": {},
   "source": [
    "Como verán, no es necesario el uso de <code>int main()</code> o al final utilizar <code>return 0;</code>"
   ]
  },
  {
   "cell_type": "markdown",
   "metadata": {},
   "source": [
    "Creo que es una manera muy didáctica de aprender a programar, puede ser utilizar en escuelas para iniciar a los jóvenes quienes, hoy en día, prefieren un aprendizaje más rápido y práctico. Sera una buena manera de captar su atención."
   ]
  },
  {
   "cell_type": "code",
   "execution_count": null,
   "metadata": {},
   "outputs": [],
   "source": []
  }
 ],
 "metadata": {
  "kernelspec": {
   "display_name": "C++14",
   "language": "C++14",
   "name": "xcpp14"
  },
  "language_info": {
   "codemirror_mode": "text/x-c++src",
   "file_extension": ".cpp",
   "mimetype": "text/x-c++src",
   "name": "c++",
   "version": "14"
  }
 },
 "nbformat": 4,
 "nbformat_minor": 4
}
